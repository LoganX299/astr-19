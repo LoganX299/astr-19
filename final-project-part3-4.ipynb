{
 "cells": [
  {
   "cell_type": "code",
   "execution_count": 37,
   "id": "7643bdc0-d98e-47e2-9743-482639e2b64a",
   "metadata": {
    "editable": true,
    "slideshow": {
     "slide_type": ""
    },
    "tags": []
   },
   "outputs": [
    {
     "name": "stdout",
     "output_type": "stream",
     "text": [
      "Requirement already satisfied: astropy in c:\\users\\logan\\anaconda3\\lib\\site-packages (6.1.3)\n",
      "Requirement already satisfied: numpy>=1.23 in c:\\users\\logan\\anaconda3\\lib\\site-packages (from astropy) (1.26.4)\n",
      "Requirement already satisfied: pyerfa>=2.0.1.1 in c:\\users\\logan\\anaconda3\\lib\\site-packages (from astropy) (2.0.1.4)\n",
      "Requirement already satisfied: astropy-iers-data>=0.2024.7.29.0.32.7 in c:\\users\\logan\\anaconda3\\lib\\site-packages (from astropy) (0.2024.9.2.0.33.23)\n",
      "Requirement already satisfied: PyYAML>=3.13 in c:\\users\\logan\\anaconda3\\lib\\site-packages (from astropy) (6.0.1)\n",
      "Requirement already satisfied: packaging>=19.0 in c:\\users\\logan\\anaconda3\\lib\\site-packages (from astropy) (24.1)\n",
      "Requirement already satisfied: sep in c:\\users\\logan\\anaconda3\\lib\\site-packages (1.2.1)\n",
      "Requirement already satisfied: numpy in c:\\users\\logan\\anaconda3\\lib\\site-packages (from sep) (1.26.4)\n"
     ]
    }
   ],
   "source": [
    "import sys\n",
    "!{sys.executable} -m pip install astropy\n",
    "!{sys.executable} -m pip install sep\n",
    "import numpy as np\n",
    "import sep"
   ]
  },
  {
   "cell_type": "markdown",
   "id": "62eb03b1-82ed-430f-ac29-515ba2d7ecc9",
   "metadata": {},
   "source": [
    "downloads neccesary packages and makes sure that they are initialized by python"
   ]
  },
  {
   "cell_type": "code",
   "execution_count": 21,
   "id": "c5037376-8321-4891-9ffc-2fcfd42bf6b9",
   "metadata": {
    "editable": true,
    "slideshow": {
     "slide_type": ""
    },
    "tags": []
   },
   "outputs": [],
   "source": [
    "import astropy.io.fits as fits\n",
    "import matplotlib.pyplot as plt\n",
    "from matplotlib import rcParams\n",
    "\n",
    "%matplotlib inline\n",
    "\n",
    "rcParams['figure.figsize'] = [10., 8.]"
   ]
  },
  {
   "cell_type": "markdown",
   "id": "f807b067-f168-43c2-88a6-23cb9ec47175",
   "metadata": {},
   "source": [
    "imports the rest of the neccesary packages and running configuration parameters"
   ]
  },
  {
   "cell_type": "code",
   "execution_count": 22,
   "id": "d0b97498-fc10-48a6-9279-75e4a595191a",
   "metadata": {
    "editable": true,
    "scrolled": true,
    "slideshow": {
     "slide_type": ""
    },
    "tags": []
   },
   "outputs": [],
   "source": [
    "data = fits.getdata(\"image.fits\")"
   ]
  },
  {
   "cell_type": "markdown",
   "id": "57b791e0-7178-4d0a-8041-2e60f69bd95e",
   "metadata": {},
   "source": [
    "gets the data out of image.fits to analyze with the following functions"
   ]
  },
  {
   "cell_type": "code",
   "execution_count": 23,
   "id": "c501af08-58ba-42fb-9c1b-b79ba2d531c2",
   "metadata": {
    "editable": true,
    "slideshow": {
     "slide_type": ""
    },
    "tags": []
   },
   "outputs": [],
   "source": [
    "data = data.byteswap().newbyteorder()\n",
    "m, s = np.mean(data), np.std(data)\n",
    "plt.imshow(data, interpolation='nearest', cmap='gray',vmin=m-s, vmax=m+s, origin='lower')\n",
    "plt.colorbar();\n",
    "plt.savefig(\"fitsfilep1.png\");"
   ]
  },
  {
   "cell_type": "markdown",
   "id": "537f2485-2699-4b05-9396-fc9b00a7442c",
   "metadata": {
    "editable": true,
    "slideshow": {
     "slide_type": ""
    },
    "tags": []
   },
   "source": [
    "fits from astropy wants to look at the data in a decending order so we have to swap the bit order for it to look at the data like fitsio would\n",
    "sets m equal to the numpy function for mean\n",
    "sets s equal to the numpy function for standard deviation\n",
    "shows the image with given parameters and outputs a bar next to it with the given range\n",
    "its not showing an output in the code unless I save it so  i had to save it as a png"
   ]
  },
  {
   "cell_type": "code",
   "execution_count": 24,
   "id": "5eef1e0c-11a0-453c-97f3-35442d3a5c14",
   "metadata": {},
   "outputs": [],
   "source": [
    "data = data.byteswap().newbyteorder()\n",
    "bkg = sep.Background(data)"
   ]
  },
  {
   "cell_type": "markdown",
   "id": "5a703099-4553-4e58-9c92-b2127e5e4d6b",
   "metadata": {},
   "source": [
    "had to run byteswap again to prevent an error\n",
    "setting a variable for the background"
   ]
  },
  {
   "cell_type": "code",
   "execution_count": 25,
   "id": "6ecc111a-2f36-472b-9b1c-3a027db9c233",
   "metadata": {
    "editable": true,
    "slideshow": {
     "slide_type": ""
    },
    "tags": []
   },
   "outputs": [
    {
     "name": "stdout",
     "output_type": "stream",
     "text": [
      "6852.04931640625\n",
      "65.46174621582031\n"
     ]
    }
   ],
   "source": [
    "print(bkg.globalback)\n",
    "print(bkg.globalrms)"
   ]
  },
  {
   "cell_type": "markdown",
   "id": "d60636e7-1bb0-4122-8d38-a718c0338ddb",
   "metadata": {},
   "source": [
    "prints the total mean of the background value and the noise of the background value"
   ]
  },
  {
   "cell_type": "code",
   "execution_count": 26,
   "id": "de1735ca-b5c3-4c57-8d36-2c40ab4e642a",
   "metadata": {},
   "outputs": [],
   "source": [
    "bkg_image = bkg.back()"
   ]
  },
  {
   "cell_type": "markdown",
   "id": "4f78045c-d13a-46d7-a413-faad2b3fa510",
   "metadata": {},
   "source": [
    "looks at the background as a 2d array"
   ]
  },
  {
   "cell_type": "code",
   "execution_count": 27,
   "id": "601388f0-3458-4a9d-9a2a-3d0defa2ce78",
   "metadata": {},
   "outputs": [],
   "source": [
    "plt.imshow(bkg_image, interpolation='nearest', cmap='gray', origin='lower')\n",
    "plt.colorbar();\n",
    "plt.savefig(\"fitsfilep2.png\")"
   ]
  },
  {
   "cell_type": "markdown",
   "id": "5370941e-77dd-4470-ba59-aee8f08c86d4",
   "metadata": {},
   "source": [
    "shows the background"
   ]
  },
  {
   "cell_type": "code",
   "execution_count": 28,
   "id": "0f3b1a26-385f-4083-85bc-59bcb650d05b",
   "metadata": {
    "editable": true,
    "slideshow": {
     "slide_type": ""
    },
    "tags": []
   },
   "outputs": [],
   "source": [
    "bkg_rms = bkg.rms()"
   ]
  },
  {
   "cell_type": "markdown",
   "id": "eeeec902-6505-4365-a8c5-c1b024e24416",
   "metadata": {},
   "source": [
    "looks at the backgtound noise as a 2d array"
   ]
  },
  {
   "cell_type": "code",
   "execution_count": 29,
   "id": "dcb3270e-4747-42f7-acfe-9a668fdd2baa",
   "metadata": {
    "editable": true,
    "slideshow": {
     "slide_type": ""
    },
    "tags": []
   },
   "outputs": [],
   "source": [
    "plt.imshow(bkg_rms, interpolation='nearest', cmap='gray', origin='lower')\n",
    "plt.colorbar();\n",
    "plt.savefig(\"fitsfilep3.png\")"
   ]
  },
  {
   "cell_type": "markdown",
   "id": "b7aea467-fd82-47ee-88ee-d6a3e02cc08e",
   "metadata": {},
   "source": [
    "shows the background noise"
   ]
  },
  {
   "cell_type": "code",
   "execution_count": 30,
   "id": "8ed95206-be3f-4d96-a50d-15a089de5369",
   "metadata": {
    "editable": true,
    "slideshow": {
     "slide_type": ""
    },
    "tags": []
   },
   "outputs": [],
   "source": [
    "data_sub = data - bkg"
   ]
  },
  {
   "cell_type": "markdown",
   "id": "9bce0a85-11d9-488c-b59c-30a45e11121c",
   "metadata": {},
   "source": [
    "subtracts the background from the image as a whole"
   ]
  },
  {
   "cell_type": "code",
   "execution_count": 31,
   "id": "cfa72ba9-8a10-4db8-8451-1584d9c3d3bc",
   "metadata": {},
   "outputs": [],
   "source": [
    "objects = sep.extract(data_sub, 1.5, err=bkg.globalrms)"
   ]
  },
  {
   "cell_type": "markdown",
   "id": "b83b95fe-3b34-4a80-bc61-fc78f5a670dc",
   "metadata": {
    "editable": true,
    "slideshow": {
     "slide_type": ""
    },
    "tags": []
   },
   "source": [
    "setting the noise threshold to mark anything above 1.5"
   ]
  },
  {
   "cell_type": "code",
   "execution_count": 32,
   "id": "88f03451-ed14-49d7-9cae-a418284e5cba",
   "metadata": {},
   "outputs": [
    {
     "data": {
      "text/plain": [
       "68"
      ]
     },
     "execution_count": 32,
     "metadata": {},
     "output_type": "execute_result"
    }
   ],
   "source": [
    "len(objects)"
   ]
  },
  {
   "cell_type": "markdown",
   "id": "03460301-5d09-4ed2-ab8b-da0f4dd3e6da",
   "metadata": {},
   "source": [
    "Shows how many objects were detected"
   ]
  },
  {
   "cell_type": "code",
   "execution_count": 33,
   "id": "f09f9679-94ca-45f8-bc4a-00560b39cb4d",
   "metadata": {},
   "outputs": [],
   "source": [
    "from matplotlib.patches import Ellipse\n",
    "\n",
    "\n",
    "fig, ax = plt.subplots()\n",
    "m, s = np.mean(data_sub), np.std(data_sub)\n",
    "im = ax.imshow(data_sub, interpolation='nearest', cmap='gray',\n",
    "               vmin=m-s, vmax=m+s, origin='lower')\n",
    "\n",
    "\n",
    "for i in range(len(objects)):\n",
    "    e = Ellipse(xy=(objects['x'][i], objects['y'][i]),\n",
    "                width=6*objects['a'][i],\n",
    "                height=6*objects['b'][i],\n",
    "                angle=objects['theta'][i] * 180. / np.pi)\n",
    "    e.set_facecolor('none')\n",
    "    e.set_edgecolor('red')\n",
    "    ax.add_artist(e)\n",
    "\n",
    "plt.savefig(\"fitsfilep4.png\")"
   ]
  },
  {
   "cell_type": "markdown",
   "id": "ac787de1-8020-4caa-b052-87fd4ed9e929",
   "metadata": {},
   "source": [
    "the function at the top plots the image with no background and the second function surrounds each of the identified objects with an ellipse"
   ]
  },
  {
   "cell_type": "code",
   "execution_count": 34,
   "id": "9d307ed7-fed1-4204-96e6-15b5c2caf840",
   "metadata": {},
   "outputs": [
    {
     "data": {
      "text/plain": [
       "('thresh',\n",
       " 'npix',\n",
       " 'tnpix',\n",
       " 'xmin',\n",
       " 'xmax',\n",
       " 'ymin',\n",
       " 'ymax',\n",
       " 'x',\n",
       " 'y',\n",
       " 'x2',\n",
       " 'y2',\n",
       " 'xy',\n",
       " 'errx2',\n",
       " 'erry2',\n",
       " 'errxy',\n",
       " 'a',\n",
       " 'b',\n",
       " 'theta',\n",
       " 'cxx',\n",
       " 'cyy',\n",
       " 'cxy',\n",
       " 'cflux',\n",
       " 'flux',\n",
       " 'cpeak',\n",
       " 'peak',\n",
       " 'xcpeak',\n",
       " 'ycpeak',\n",
       " 'xpeak',\n",
       " 'ypeak',\n",
       " 'flag')"
      ]
     },
     "execution_count": 34,
     "metadata": {},
     "output_type": "execute_result"
    }
   ],
   "source": [
    "objects.dtype.names"
   ]
  },
  {
   "cell_type": "markdown",
   "id": "9d6d8bb2-777e-4c40-9c0e-1314a94df531",
   "metadata": {},
   "source": [
    "shows the number of available fields"
   ]
  },
  {
   "cell_type": "code",
   "execution_count": 35,
   "id": "d615b5e7-92b5-4314-820e-f696fa51aafb",
   "metadata": {},
   "outputs": [],
   "source": [
    "flux, fluxerr, flag = sep.sum_circle(data_sub, objects['x'], objects['y'],\n",
    "                                     3.0, err=bkg.globalrms, gain=1.0)"
   ]
  },
  {
   "cell_type": "markdown",
   "id": "33c60334-5b69-4862-b48a-2a84fb407a13",
   "metadata": {
    "editable": true,
    "slideshow": {
     "slide_type": ""
    },
    "tags": []
   },
   "source": [
    "checks how much light is coming from each object based on light, errors in the light, and accounting for noise"
   ]
  },
  {
   "cell_type": "code",
   "execution_count": 38,
   "id": "1b36260e-f64f-480c-9071-b37ace74fe9f",
   "metadata": {},
   "outputs": [
    {
     "name": "stdout",
     "output_type": "stream",
     "text": [
      "object 0: flux = 2249.159297 +/- 291.027802\n",
      "object 1: flux = 3092.220430 +/- 291.592204\n",
      "object 2: flux = 5949.868379 +/- 356.562003\n",
      "object 3: flux = 1851.426582 +/- 295.028816\n",
      "object 4: flux = 72736.386914 +/- 440.172206\n",
      "object 5: flux = 3860.756152 +/- 352.163162\n",
      "object 6: flux = 6418.913789 +/- 357.458973\n",
      "object 7: flux = 2210.707656 +/- 350.791223\n",
      "object 8: flux = 2741.607227 +/- 352.277746\n",
      "object 9: flux = 20916.875566 +/- 376.966138\n"
     ]
    }
   ],
   "source": [
    "for i in range(10):\n",
    "    print(\"object {:d}: flux = {:f} +/- {:f}\".format(i, flux[i], fluxerr[i]))"
   ]
  },
  {
   "cell_type": "markdown",
   "id": "a9c386a4-a2a9-4d86-86b9-39c40bfd3164",
   "metadata": {
    "editable": true,
    "slideshow": {
     "slide_type": ""
    },
    "tags": []
   },
   "source": [
    "Shows the results of the first ten objects"
   ]
  }
 ],
 "metadata": {
  "kernelspec": {
   "display_name": "Python 3 (ipykernel)",
   "language": "python",
   "name": "python3"
  },
  "language_info": {
   "codemirror_mode": {
    "name": "ipython",
    "version": 3
   },
   "file_extension": ".py",
   "mimetype": "text/x-python",
   "name": "python",
   "nbconvert_exporter": "python",
   "pygments_lexer": "ipython3",
   "version": "3.12.7"
  }
 },
 "nbformat": 4,
 "nbformat_minor": 5
}
