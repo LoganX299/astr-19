{
 "cells": [
  {
   "cell_type": "code",
   "execution_count": 1,
   "id": "cebbbcd6-89a6-40e2-91e4-80333d9fe47f",
   "metadata": {
    "tags": []
   },
   "outputs": [],
   "source": [
    "%matplotlib inline\n",
    "import numpy as np\n",
    "import matplotlib.pyplot as plt\n",
    "import math"
   ]
  },
  {
   "cell_type": "code",
   "execution_count": 2,
   "id": "e86c27af-571e-4d05-8ca5-f1281e193882",
   "metadata": {
    "tags": []
   },
   "outputs": [],
   "source": [
    "def sin(x):\n",
    "    return math.sin(x)"
   ]
  },
  {
   "cell_type": "markdown",
   "id": "f3adb7fa-c1bb-4b8b-8806-7ee29bfe62e9",
   "metadata": {},
   "source": [
    "returns the sin value of the given argument"
   ]
  },
  {
   "cell_type": "code",
   "execution_count": 3,
   "id": "dc66d74b-2149-4939-a031-a7f2e1f439c9",
   "metadata": {},
   "outputs": [],
   "source": [
    "def cos(x):\n",
    "    return math.cos(x)"
   ]
  },
  {
   "cell_type": "markdown",
   "id": "fb460666-336c-4d35-8a41-e68b4b1fd6c4",
   "metadata": {},
   "source": [
    "returns the cos value of the given argument"
   ]
  },
  {
   "cell_type": "code",
   "execution_count": 4,
   "id": "d0eccb60-6e1c-4985-b0fd-035945cbb0ea",
   "metadata": {},
   "outputs": [],
   "source": [
    "circle = np.linspace(0, 2 * math.pi, 1000)"
   ]
  },
  {
   "cell_type": "markdown",
   "id": "ae6bc71c-c938-407a-92c3-0b6906bc4a85",
   "metadata": {},
   "source": [
    "gives the variable circle the values between 0 and 2pi"
   ]
  },
  {
   "cell_type": "code",
   "execution_count": 7,
   "id": "2bc0d316-4de6-4699-ad2b-452c46698b2d",
   "metadata": {
    "tags": []
   },
   "outputs": [
    {
     "name": "stdout",
     "output_type": "stream",
     "text": [
      "x:0.0 sin(x): 0.0 cos(x): 1.0\n",
      "x:0.006289474781961547 sin(x): 0.006289433316067751 cos(x): 0.9999802213186832\n",
      "x:0.012578949563923095 sin(x): 0.012578617838741058 cos(x): 0.9999208860571255\n",
      "x:0.018868424345884642 sin(x): 0.01886730478446709 cos(x): 0.9998219965624732\n",
      "x:0.02515789912784619 sin(x): 0.025155245389375847 cos(x): 0.9996835567465339\n",
      "x:0.03144737390980774 sin(x): 0.0314421909191206 cos(x): 0.9995055720856215\n",
      "x:0.037736848691769284 sin(x): 0.03772789267871718 cos(x): 0.99928804962034\n",
      "x:0.04402632347373083 sin(x): 0.04401210202238166 cos(x): 0.9990309979553044\n",
      "x:0.05031579825569238 sin(x): 0.05029457036336618 cos(x): 0.9987344272588006\n",
      "x:0.056605273037653926 sin(x): 0.056575049183792345 cos(x): 0.9983983492623831\n"
     ]
    }
   ],
   "source": [
    "for i in range(10):\n",
    "    print(f\"x:{circle[i]} sin(x): {sin(circle[i])} cos(x): {cos(circle[i])}\")"
   ]
  },
  {
   "cell_type": "markdown",
   "id": "5cca79a9-0458-4306-848e-7379507cfcf6",
   "metadata": {},
   "source": [
    "uses a for loop to print the first 10 values of x, cos(x), and sin(x)"
   ]
  },
  {
   "cell_type": "code",
   "execution_count": 6,
   "id": "ab18a0da-6612-4bf6-a1d5-812eac0c5e7b",
   "metadata": {},
   "outputs": [
    {
     "name": "stdout",
     "output_type": "stream",
     "text": [
      "x: 0.000 sin(0.000): 0.0 cos(0.000): 1.0\n",
      "x: 0.006 sin(0.006): 0.006289433316067751 cos(0.006): 0.9999802213186832\n",
      "x: 0.013 sin(0.013): 0.012578617838741058 cos(0.013): 0.9999208860571255\n",
      "x: 0.019 sin(0.019): 0.01886730478446709 cos(0.019): 0.9998219965624732\n",
      "x: 0.025 sin(0.025): 0.025155245389375847 cos(0.025): 0.9996835567465339\n",
      "x: 0.031 sin(0.031): 0.0314421909191206 cos(0.031): 0.9995055720856215\n",
      "x: 0.038 sin(0.038): 0.03772789267871718 cos(0.038): 0.99928804962034\n",
      "x: 0.044 sin(0.044): 0.04401210202238166 cos(0.044): 0.9990309979553044\n",
      "x: 0.050 sin(0.050): 0.05029457036336618 cos(0.050): 0.9987344272588006\n",
      "x: 0.057 sin(0.057): 0.056575049183792345 cos(0.057): 0.9983983492623831\n"
     ]
    }
   ],
   "source": [
    "for i in range(10):\n",
    "  print(f\"x: {circle[i]:.3f} sin({circle[i]:.3f}): {sin(circle[i])} cos({circle[i]:.3f}): {cos(circle[i])}\")"
   ]
  },
  {
   "cell_type": "markdown",
   "id": "8093ebda-228b-41db-a4a9-9c3b0f106de3",
   "metadata": {},
   "source": [
    "uses a for loop to print the first 10 values of x, cos(x), and sin(x) within a precision of 3 decimal points"
   ]
  }
 ],
 "metadata": {
  "kernelspec": {
   "display_name": "ASTR 19",
   "language": "python",
   "name": "astr19"
  },
  "language_info": {
   "codemirror_mode": {
    "name": "ipython",
    "version": 3
   },
   "file_extension": ".py",
   "mimetype": "text/x-python",
   "name": "python",
   "nbconvert_exporter": "python",
   "pygments_lexer": "ipython3",
   "version": "3.10.12"
  }
 },
 "nbformat": 4,
 "nbformat_minor": 5
}
