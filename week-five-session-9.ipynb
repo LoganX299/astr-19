{
 "cells": [
  {
   "cell_type": "code",
   "execution_count": 1,
   "id": "e50cbd42-d0a4-4924-800e-fff7a6d09084",
   "metadata": {},
   "outputs": [],
   "source": [
    "import matplotlib.pyplot as plt\n",
    "import numpy as np"
   ]
  },
  {
   "cell_type": "code",
   "execution_count": null,
   "id": "1b1574f1-a97b-47bb-8d2b-4b5eb40b60dd",
   "metadata": {},
   "outputs": [],
   "source": [
    "#this code will generate 1000 numbers distributited in a uniform manner between 0 and 1\n",
    "random_numbers = np.random.uniform(0, 1, 1000)\n",
    "\n",
    "plt.hist(random_numbers, bins=100, color='skyblue', edgecolor='black')\n",
    "plt.xlabel(\"Value\")\n",
    "plt.ylabel(\"Frequency\")\n",
    "plt.title(\"Histogram of Uniformly Distributed Random Numbers\")\n",
    "\n",
    "plt.savefig(\"uniform_histogram.pdf\")\n",
    "\n",
    "plt.show()\n",
    "\n"
   ]
  }
 ],
 "metadata": {
  "kernelspec": {
   "display_name": "ASTR 19",
   "language": "python",
   "name": "astr19"
  },
  "language_info": {
   "codemirror_mode": {
    "name": "ipython",
    "version": 3
   },
   "file_extension": ".py",
   "mimetype": "text/x-python",
   "name": "python",
   "nbconvert_exporter": "python",
   "pygments_lexer": "ipython3",
   "version": "3.10.12"
  }
 },
 "nbformat": 4,
 "nbformat_minor": 5
}
